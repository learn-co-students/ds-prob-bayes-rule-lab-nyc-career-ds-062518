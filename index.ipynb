{
 "cells": [
  {
   "cell_type": "markdown",
   "metadata": {},
   "source": [
    "# Probability Bayes Rule"
   ]
  },
  {
   "cell_type": "markdown",
   "metadata": {},
   "source": [
    "## Introduction"
   ]
  },
  {
   "cell_type": "markdown",
   "metadata": {},
   "source": [
    "In practice, Bayes's formula is very useful when it comes to conditional probabilities. The idea behind the rule is that, when having two events $A$ and $B$ and a conditional event $A\\mid B$, you can compute the probability of event $B\\mid A$."
   ]
  },
  {
   "cell_type": "markdown",
   "metadata": {},
   "source": [
    "## Learning objectives"
   ]
  },
  {
   "cell_type": "markdown",
   "metadata": {},
   "source": [
    "In this lab, you'll\n",
    "- learn how to apply Bayes' rule, both in the simple form and the long form\n",
    "- practice creating two-way tables\n"
   ]
  },
  {
   "cell_type": "markdown",
   "metadata": {},
   "source": [
    "### Exercise 1"
   ]
  },
  {
   "cell_type": "markdown",
   "metadata": {},
   "source": [
    "Each year, 2000 students apply for undergrad programs at Stanford University. Among the applicants, 20% have an SAT score above 1550, 55% have an SAT score between 1450 and 1550 and 25% have an SAT below 1450. \n",
    "\n",
    "Obviously, the probability of being admitted grows with the SAT score. People that have an SAT score of 1550 or higher have a probability of 80% of being admitted. For students that have scores between 1450 and 1550 this probability drops to 15%, for students that have an SAT score below 1450 this probability drops to 5%. "
   ]
  },
  {
   "cell_type": "markdown",
   "metadata": {},
   "source": [
    "- what is the probability of being admitted?\n",
    "- what is the probability of having an SAT of over 1550 if you were admitted?"
   ]
  },
  {
   "cell_type": "markdown",
   "metadata": {},
   "source": [
    "### Solution"
   ]
  },
  {
   "cell_type": "code",
   "execution_count": 15,
   "metadata": {},
   "outputs": [],
   "source": [
    "above = .2\n",
    "between = .55\n",
    "below = .25\n",
    "above_admit = .8\n",
    "between_admit = .15\n",
    "below_admit = .05"
   ]
  },
  {
   "cell_type": "markdown",
   "metadata": {},
   "source": [
    "**what is the probability of being admitted?**"
   ]
  },
  {
   "cell_type": "markdown",
   "metadata": {},
   "source": [
    "According to the decomposition formula:"
   ]
  },
  {
   "cell_type": "code",
   "execution_count": 16,
   "metadata": {},
   "outputs": [
    {
     "data": {
      "text/plain": [
       "0.25500000000000006"
      ]
     },
     "execution_count": 16,
     "metadata": {},
     "output_type": "execute_result"
    }
   ],
   "source": [
    "P_admitted = (above*above_admit)+(between*between_admit)+(below*below_admit)\n",
    "P_admitted # answer : 0.255"
   ]
  },
  {
   "cell_type": "markdown",
   "metadata": {},
   "source": [
    "**what is the probability of having an SAT of over 1550 if you were admitted?**"
   ]
  },
  {
   "cell_type": "code",
   "execution_count": 21,
   "metadata": {},
   "outputs": [
    {
     "data": {
      "text/plain": [
       "0.6274509803921569"
      ]
     },
     "execution_count": 21,
     "metadata": {},
     "output_type": "execute_result"
    }
   ],
   "source": [
    "P_1550_given_admitted = (above*above_admit)/P_admitted\n",
    "P_1550_given_admitted  # answer: 0.62745"
   ]
  },
  {
   "cell_type": "markdown",
   "metadata": {},
   "source": [
    "Recall that the probability of being admitted given an SAT of > 1550 is different! So this is a good illustration to show that generally $P(A\\mid B) \\neq P(B\\mid A)$!"
   ]
  },
  {
   "cell_type": "markdown",
   "metadata": {},
   "source": [
    "## Exercise 2\n",
    "\n",
    "There is a disease that affects a proportion of $\\gamma$ of the human population. \n",
    "\n",
    "Having the disease is affected by a genetic factor, and we know that the joint probability of you and your father having the disease is equal to $\\delta$.\n",
    "\n",
    "Now our question is: given that your father doesn't have the disease, what is the probability that you won't get the disease? Create a two-way table to solve for this in terms of $\\gamma$ and $\\delta$:\n",
    "\n",
    "P(A) = You have the disease\n",
    "\n",
    "P(B) = Your dad has the disease"
   ]
  },
  {
   "cell_type": "markdown",
   "metadata": {},
   "source": [
    "|   |$A$  |$A^c$ | + |\n",
    "|---|---|---|---|\n",
    "| $B$  | $\\delta$  | ?  | ? | \n",
    "| $B^c$ | ?  |  ? |  ? | \n",
    "| +  | $\\gamma$  |  ? |1   | "
   ]
  },
  {
   "cell_type": "markdown",
   "metadata": {},
   "source": [
    "$P(A^c \\mid B^c) = \\dfrac{P(A^c \\cap B^c)}{P(B^c)} = \\dfrac{1-2\\gamma+\\delta}{1-\\gamma}$"
   ]
  },
  {
   "cell_type": "markdown",
   "metadata": {},
   "source": [
    "## Exercise 3"
   ]
  },
  {
   "cell_type": "markdown",
   "metadata": {},
   "source": [
    "Now, let the probability of having the disease be 0.065 and the joint probability of a person and their father having the disease be 0.01, what is the probability that you don't have the disease given that your father doesn't have it?"
   ]
  },
  {
   "cell_type": "code",
   "execution_count": 76,
   "metadata": {},
   "outputs": [],
   "source": [
    "dis = .065 #(y)\n",
    "no_dis = 2- dis\n",
    "joint = .01 #Ò"
   ]
  },
  {
   "cell_type": "markdown",
   "metadata": {},
   "source": [
    "% of both not having the disease(not joint times no disease) divided by % not having the disease"
   ]
  },
  {
   "cell_type": "code",
   "execution_count": 77,
   "metadata": {},
   "outputs": [
    {
     "data": {
      "text/plain": [
       "0.9411764705882353"
      ]
     },
     "execution_count": 77,
     "metadata": {},
     "output_type": "execute_result"
    }
   ],
   "source": [
    "\n",
    "prob_no_disease =(1-(2*dis)+ joint) / (1 - dis)\n",
    "prob_no_disease # correct answer: 0.94118"
   ]
  },
  {
   "cell_type": "markdown",
   "metadata": {},
   "source": [
    "## Exercise 4"
   ]
  },
  {
   "cell_type": "markdown",
   "metadata": {},
   "source": [
    "Two boxes are filled with black and white balls. In the first box, there are 3 white balls and 7 black ones, in the second box, there are 6 white balls and 4 black ones. Jenna takes one ball out of box 1 and puts it in the second box without looking at the color. then he takes a ball out of the second box and notices that it's white. Now, it's your turn to compute the probability that Jenna put a white ball from the first box into the second. Use bayes formula to do this! It will help if you define events $A, A'$ and $B$."
   ]
  },
  {
   "cell_type": "markdown",
   "metadata": {},
   "source": [
    "### Solution"
   ]
  },
  {
   "cell_type": "markdown",
   "metadata": {},
   "source": [
    "Denote event A the event that Jenna put a white ball from the first box to the second.\n",
    "\n",
    "Denote event B the event that Jenna draws a white ball from box 2."
   ]
  },
  {
   "cell_type": "markdown",
   "metadata": {},
   "source": [
    "$P(A \\mid B)= \\dfrac{P(A)P(B\\mid A)}{P(A)P(B\\mid A)+ P(A')P(B\\mid A')}$"
   ]
  },
  {
   "cell_type": "code",
   "execution_count": 72,
   "metadata": {},
   "outputs": [
    {
     "data": {
      "text/plain": [
       "0.3333915778437882"
      ]
     },
     "execution_count": 72,
     "metadata": {},
     "output_type": "execute_result"
    }
   ],
   "source": [
    "putW = .3\n",
    "putB = .7\n",
    "wtookw = .636\n",
    "btookw = .545\n",
    "#tookW = .6 # but if put white in .636 if put black .545\n",
    "#tookB = .4\n",
    "\n",
    "p_a_given_b = (putW * wtookw)/((putW *wtookw)+(putB*btookw))\n",
    "p_a_given_b # correct answer: 0.33333"
   ]
  },
  {
   "cell_type": "code",
   "execution_count": null,
   "metadata": {},
   "outputs": [],
   "source": []
  }
 ],
 "metadata": {
  "kernelspec": {
   "display_name": "Python 3",
   "language": "python",
   "name": "python3"
  },
  "language_info": {
   "codemirror_mode": {
    "name": "ipython",
    "version": 3
   },
   "file_extension": ".py",
   "mimetype": "text/x-python",
   "name": "python",
   "nbconvert_exporter": "python",
   "pygments_lexer": "ipython3",
   "version": "3.6.5"
  }
 },
 "nbformat": 4,
 "nbformat_minor": 2
}
