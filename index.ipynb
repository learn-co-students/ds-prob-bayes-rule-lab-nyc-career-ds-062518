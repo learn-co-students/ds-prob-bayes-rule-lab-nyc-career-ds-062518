{
 "cells": [
  {
   "cell_type": "markdown",
   "metadata": {},
   "source": [
    "# Probability Bayes Rule"
   ]
  },
  {
   "cell_type": "markdown",
   "metadata": {},
   "source": [
    "## Introduction"
   ]
  },
  {
   "cell_type": "markdown",
   "metadata": {},
   "source": [
    "In practice, Bayes's formula is very useful when it comes to conditional probabilities. The idea behind the rule is that, when having two events $A$ and $B$ and a conditional event $A\\mid B$, you can compute the probability of event $B\\mid A$."
   ]
  },
  {
   "cell_type": "markdown",
   "metadata": {},
   "source": [
    "## Learning objectives"
   ]
  },
  {
   "cell_type": "markdown",
   "metadata": {},
   "source": [
    "In this lab, you'll\n",
    "- learn how to apply Bayes' rule, both in the simple form and the long form\n",
    "- practice creating two-way tables\n"
   ]
  },
  {
   "cell_type": "markdown",
   "metadata": {},
   "source": [
    "### Exercise 1"
   ]
  },
  {
   "cell_type": "markdown",
   "metadata": {},
   "source": [
    "Each year, 2000 students apply for undergrad programs at Stanford University. Among the applicants, 20% have an SAT score above 1550, 55% have an SAT score between 1450 and 1550 and 25% have an SAT below 1450. \n",
    "\n",
    "Obviously, the probability of being admitted grows with the SAT score. People that have an SAT score of 1550 or higher have a probability of 80% of being admitted. For students that have scores between 1450 and 1550 this probability drops to 15%, for students that have an SAT score below 1450 this probability drops to 5%. "
   ]
  },
  {
   "cell_type": "markdown",
   "metadata": {},
   "source": [
    "- what is the probability of being admitted?\n",
    "- what is the probability of having an SAT of over 1550 if you were admitted?"
   ]
  },
  {
   "cell_type": "markdown",
   "metadata": {},
   "source": [
    "### Solution"
   ]
  },
  {
   "cell_type": "markdown",
   "metadata": {},
   "source": [
    "**what is the probability of being admitted?**"
   ]
  },
  {
   "cell_type": "markdown",
   "metadata": {},
   "source": [
    "According to the decomposition formula:"
   ]
  },
  {
   "cell_type": "code",
   "execution_count": 4,
   "metadata": {},
   "outputs": [],
   "source": [
    "ad_1550 =.2\n",
    "ad_1450_1550 =.55\n",
    "less_1450=.05\n",
    "high=.8\n",
    "mid=.15\n",
    "low=.05"
   ]
  },
  {
   "cell_type": "code",
   "execution_count": 5,
   "metadata": {},
   "outputs": [
    {
     "data": {
      "text/plain": [
       "0.24500000000000005"
      ]
     },
     "execution_count": 5,
     "metadata": {},
     "output_type": "execute_result"
    }
   ],
   "source": [
    "P_admitted = (ad_1550*high)+(ad_1450_1550*mid)+(low*less_1450)\n",
    "P_admitted # answer : 0.255"
   ]
  },
  {
   "cell_type": "markdown",
   "metadata": {},
   "source": [
    "**what is the probability of having an SAT of over 1550 if you were admitted?**"
   ]
  },
  {
   "cell_type": "code",
   "execution_count": 6,
   "metadata": {},
   "outputs": [
    {
     "data": {
      "text/plain": [
       "0.6530612244897959"
      ]
     },
     "execution_count": 6,
     "metadata": {},
     "output_type": "execute_result"
    }
   ],
   "source": [
    "P_1550_given_admitted = (ad_1550 *high)/P_admitted\n",
    "P_1550_given_admitted  # answer: 0.62745"
   ]
  },
  {
   "cell_type": "markdown",
   "metadata": {},
   "source": [
    "Recall that the probability of being admitted given an SAT of > 1550 is different! So this is a good illustration to show that generally $P(A\\mid B) \\neq P(B\\mid A)$!"
   ]
  },
  {
   "cell_type": "markdown",
   "metadata": {},
   "source": [
    "## Exercise 2\n",
    "\n",
    "There is a disease that affects a proportion of $\\gamma$ of the human population. \n",
    "\n",
    "Having the disease is affected by a genetic factor, and we know that the joint probability of you and your father having the disease is equal to $\\delta$.\n",
    "\n",
    "Now our question is: given that your father doesn't have the disease, what is the probability that you won't get the disease? Create a two-way table to solve for this in terms of $\\gamma$ and $\\delta$:\n",
    "\n",
    "P(A) = You have the disease\n",
    "\n",
    "P(B) = Your dad has the disease"
   ]
  },
  {
   "cell_type": "markdown",
   "metadata": {},
   "source": [
    "|   |$A$  |$A^c$ | + |\n",
    "|---|---|---|---|\n",
    "| $B$  | $\\delta$  | ?  | ? | \n",
    "| $B^c$ | ?  |  ? |  ? | \n",
    "| +  | $\\gamma$  |  ? |1   | "
   ]
  },
  {
   "cell_type": "markdown",
   "metadata": {},
   "source": [
    "## Exercise 3"
   ]
  },
  {
   "cell_type": "markdown",
   "metadata": {},
   "source": [
    "Now, let the probability of having the disease be 0.065 and the joint probability of a person and their father having the disease be 0.01, what is the probability that you don't have the disease given that your father doesn't have it?"
   ]
  },
  {
   "cell_type": "code",
   "execution_count": 3,
   "metadata": {},
   "outputs": [
    {
     "data": {
      "text/plain": [
       "0.9411764705882353"
      ]
     },
     "execution_count": 3,
     "metadata": {},
     "output_type": "execute_result"
    }
   ],
   "source": [
    "prob_no_disease =(1-2*0.065+0.01)/(1-0.065)\n",
    "prob_no_disease # correct answer: 0.94118"
   ]
  },
  {
   "cell_type": "markdown",
   "metadata": {},
   "source": [
    "## Exercise 4"
   ]
  },
  {
   "cell_type": "markdown",
   "metadata": {},
   "source": [
    "Two boxes are filled with black and white balls. In the first box, there are 3 white balls and 7 black ones, in the second box, there are 6 white balls and 4 black ones. Jenna takes one ball out of box 1 and puts it in the second box without looking at the color. then he takes a ball out of the second box and notices that it's white. Now, it's your turn to compute the probability that Jenna put a white ball from the first box into the second. Use bayes formula to do this! It will help if you define events $A, A'$ and $B$."
   ]
  },
  {
   "cell_type": "markdown",
   "metadata": {},
   "source": [
    "### Solution"
   ]
  },
  {
   "cell_type": "markdown",
   "metadata": {},
   "source": [
    "Denote event A the event that Jenna put a white ball from the first box to the second.\n",
    "\n",
    "Denote event B the event that Jenna draws a white ball from box 2."
   ]
  },
  {
   "cell_type": "markdown",
   "metadata": {},
   "source": [
    "$P(A \\mid B)= \\dfrac{P(A)P(B\\mid A)}{P(A)P(B\\mid A)+ P(A')P(B\\mid A')}$"
   ]
  },
  {
   "cell_type": "markdown",
   "metadata": {},
   "source": [
    "p_a = (3/10)\n",
    "p_b=(7/11)\n",
    "p_ia=(1 - p_a)\n",
    "p_ib()\n",
    "None\n",
    "\n",
    "p_a_given_b = None\n",
    "p_a_given_b # correct answer: 0.33333"
   ]
  },
  {
   "cell_type": "code",
   "execution_count": 6,
   "metadata": {},
   "outputs": [],
   "source": [
    "p_a = (3/10)\n",
    "p_ba= (7/11)\n",
    "p_ia = (7/10)\n",
    "p_bia=(6/11)"
   ]
  },
  {
   "cell_type": "code",
   "execution_count": 8,
   "metadata": {},
   "outputs": [
    {
     "data": {
      "text/plain": [
       "0.33333333333333337"
      ]
     },
     "execution_count": 8,
     "metadata": {},
     "output_type": "execute_result"
    }
   ],
   "source": [
    "p_a_given_b =(p_a * (p_ba)/ (((p_a)*(p_ba)) + ((p_ia)*((p_bia)))))\n",
    "p_a_given_b"
   ]
  },
  {
   "cell_type": "code",
   "execution_count": null,
   "metadata": {},
   "outputs": [],
   "source": []
  }
 ],
 "metadata": {
  "kernelspec": {
   "display_name": "Python 3",
   "language": "python",
   "name": "python3"
  },
  "language_info": {
   "codemirror_mode": {
    "name": "ipython",
    "version": 3
   },
   "file_extension": ".py",
   "mimetype": "text/x-python",
   "name": "python",
   "nbconvert_exporter": "python",
   "pygments_lexer": "ipython3",
   "version": "3.6.5"
  }
 },
 "nbformat": 4,
 "nbformat_minor": 2
}
